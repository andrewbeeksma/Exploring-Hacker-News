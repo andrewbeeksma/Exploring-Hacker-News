{
  "nbformat": 4,
  "nbformat_minor": 0,
  "metadata": {
    "kernelspec": {
      "display_name": "Python 3",
      "language": "python",
      "name": "python3"
    },
    "language_info": {
      "codemirror_mode": {
        "name": "ipython",
        "version": 3
      },
      "file_extension": ".py",
      "mimetype": "text/x-python",
      "name": "python",
      "nbconvert_exporter": "python",
      "pygments_lexer": "ipython3",
      "version": "3.7.6"
    },
    "colab": {
      "name": "Exploring Hacker News Posts.ipynb",
      "provenance": [],
      "include_colab_link": true
    }
  },
  "cells": [
    {
      "cell_type": "markdown",
      "metadata": {
        "id": "view-in-github",
        "colab_type": "text"
      },
      "source": [
        "<a href=\"https://colab.research.google.com/github/andrewbeeksma/Exploring-Hacker-News/blob/master/Exploring_Hacker_News_Posts.ipynb\" target=\"_parent\"><img src=\"https://colab.research.google.com/assets/colab-badge.svg\" alt=\"Open In Colab\"/></a>"
      ]
    },
    {
      "cell_type": "markdown",
      "metadata": {
        "id": "EsCd1E2Mt6Ha",
        "colab_type": "text"
      },
      "source": [
        "# Exploring Hacker News"
      ]
    },
    {
      "cell_type": "markdown",
      "metadata": {
        "id": "sHIFLz2nt6He",
        "colab_type": "text"
      },
      "source": [
        "Hacker News is a site where individuals may post things to the community (i.e. questions, projects, etc.) and receive feedback. Similar to Reddit, the site is very popular amongst technology and start up circles. In this project, I will be exploring a data set from Kaggle containing information on Hacker News posts (you can find the the dataset [here](https://www.kaggle.com/hacker-news/hacker-news-posts)) and begin to draw insights and conclusions based on the available data."
      ]
    },
    {
      "cell_type": "code",
      "metadata": {
        "id": "FFDumkqft6Hh",
        "colab_type": "code",
        "colab": {},
        "outputId": "8ff7f049-e324-4526-ffed-50440d18c225"
      },
      "source": [
        "from csv import reader\n",
        "opened_file = open('hacker_news.csv')\n",
        "read_file = reader(opened_file)\n",
        "hn = list(read_file)\n",
        "\n",
        "for row in hn[:5]:\n",
        "    print(row)"
      ],
      "execution_count": null,
      "outputs": [
        {
          "output_type": "stream",
          "text": [
            "['id', 'title', 'url', 'num_points', 'num_comments', 'author', 'created_at']\n",
            "['12579008', 'You have two days to comment if you want stem cells to be classified as your own', 'http://www.regulations.gov/document?D=FDA-2015-D-3719-0018', '1', '0', 'altstar', '9/26/2016 3:26']\n",
            "['12579005', 'SQLAR  the SQLite Archiver', 'https://www.sqlite.org/sqlar/doc/trunk/README.md', '1', '0', 'blacksqr', '9/26/2016 3:24']\n",
            "['12578997', 'What if we just printed a flatscreen television on the side of our boxes?', 'https://medium.com/vanmoof/our-secrets-out-f21c1f03fdc8#.ietxmez43', '1', '0', 'pavel_lishin', '9/26/2016 3:19']\n",
            "['12578989', 'algorithmic music', 'http://cacm.acm.org/magazines/2011/7/109891-algorithmic-composition/fulltext', '1', '0', 'poindontcare', '9/26/2016 3:16']\n"
          ],
          "name": "stdout"
        }
      ]
    },
    {
      "cell_type": "markdown",
      "metadata": {
        "id": "z91tqmmAt6Ht",
        "colab_type": "text"
      },
      "source": [
        "Notice that the first row in my list of lists hn is a header row. So, before moving forward in the cleaning and analysis process, I'm going to extract the header row and reassign hn so that it only contains rows of data."
      ]
    },
    {
      "cell_type": "code",
      "metadata": {
        "id": "swvL3wIet6Hu",
        "colab_type": "code",
        "colab": {},
        "outputId": "1a50d364-52a2-457c-cc0c-9c6be866e769"
      },
      "source": [
        "header = hn[0]\n",
        "hn = hn[1:]\n",
        "\n",
        "print(header)\n",
        "print(hn[:3])"
      ],
      "execution_count": null,
      "outputs": [
        {
          "output_type": "stream",
          "text": [
            "['id', 'title', 'url', 'num_points', 'num_comments', 'author', 'created_at']\n",
            "[['12579008', 'You have two days to comment if you want stem cells to be classified as your own', 'http://www.regulations.gov/document?D=FDA-2015-D-3719-0018', '1', '0', 'altstar', '9/26/2016 3:26'], ['12579005', 'SQLAR  the SQLite Archiver', 'https://www.sqlite.org/sqlar/doc/trunk/README.md', '1', '0', 'blacksqr', '9/26/2016 3:24'], ['12578997', 'What if we just printed a flatscreen television on the side of our boxes?', 'https://medium.com/vanmoof/our-secrets-out-f21c1f03fdc8#.ietxmez43', '1', '0', 'pavel_lishin', '9/26/2016 3:19']]\n"
          ],
          "name": "stdout"
        }
      ]
    },
    {
      "cell_type": "markdown",
      "metadata": {
        "id": "NzkUaF01t6Hz",
        "colab_type": "text"
      },
      "source": [
        "For this project, I will primarily be exploring \"Ask HN\" and \"Show HN\" posts. So, I will go through the rows that extract the data that is relevant to my analysis. I will start by initializing three empty lists to sort the posts into their corresponding category."
      ]
    },
    {
      "cell_type": "code",
      "metadata": {
        "id": "qtaxRDdht6H0",
        "colab_type": "code",
        "colab": {},
        "outputId": "aa52fb7c-0bda-487d-d9c8-f4a2e304b9e8"
      },
      "source": [
        "ask_posts = []\n",
        "show_posts = []\n",
        "other_posts = []\n",
        "\n",
        "for row in hn:\n",
        "    title = row[1]\n",
        "    if title.lower().startswith('ask hn'):\n",
        "        ask_posts.append(row)\n",
        "    elif title.lower().startswith('show hn'):\n",
        "        show_posts.append(row)\n",
        "    else:\n",
        "        other_posts.append(row)\n",
        "\n",
        "print(len(ask_posts))\n",
        "print(len(show_posts))\n",
        "print(len(other_posts))"
      ],
      "execution_count": null,
      "outputs": [
        {
          "output_type": "stream",
          "text": [
            "9139\n",
            "10158\n",
            "273822\n"
          ],
          "name": "stdout"
        }
      ]
    },
    {
      "cell_type": "markdown",
      "metadata": {
        "id": "YNK6yMdDt6H7",
        "colab_type": "text"
      },
      "source": [
        "The first question I'm going to ask about the data is which posts receive the most comments. I want to accurately determine whether an \"Ask HN\" or \"Show HN\" post is more likely to receive feedback from the community, and so I'm not going to iterate through these three lists and find the average number of comments each type of post receives."
      ]
    },
    {
      "cell_type": "code",
      "metadata": {
        "id": "elVqUQomt6H8",
        "colab_type": "code",
        "colab": {},
        "outputId": "7e1457e4-daaf-429f-b5db-25bd4b5fa59b"
      },
      "source": [
        "total_ask_comments = 0\n",
        "for row in ask_posts:\n",
        "    num_comments = int(row[4])\n",
        "    total_ask_comments += num_comments\n",
        "avg_ask_comments = round(total_ask_comments/len(ask_posts), 2)\n",
        "print(avg_ask_comments)\n",
        "\n",
        "total_show_comments = 0\n",
        "for row in show_posts:\n",
        "    num_comments = int(row[4])\n",
        "    total_show_comments += num_comments\n",
        "avg_show_comments = round(total_show_comments/len(show_posts), 2)\n",
        "print(avg_show_comments)"
      ],
      "execution_count": null,
      "outputs": [
        {
          "output_type": "stream",
          "text": [
            "10.39\n",
            "4.89\n"
          ],
          "name": "stdout"
        }
      ]
    },
    {
      "cell_type": "markdown",
      "metadata": {
        "id": "WFbPJjWnt6H_",
        "colab_type": "text"
      },
      "source": [
        "Here we find that the average number of comments that an \"Ask HN\" post receives is 10.39, whereas the average number of comments that a \"Show HN\" post receives is only 4.89. This clearly shows that if one is looking for a greater amount of feedback from the technology and startup community, an \"Ask HN\" post is going to promise a higher likelihood of receiving this feedback. Because \"Ask HN\" posts receive more than twice as many comments, I am going to focus my remaining analysis on this category of Hacker News posts. The next question I will ask of this data set is if there is a time of day that posts are more likely to receive comments. I can do this by determining how many posts are created in each hour of the day, as well as the number of comments each post receives. Subsequently, I can determine the average number of comments that posts receive for each hour of the day."
      ]
    },
    {
      "cell_type": "code",
      "metadata": {
        "id": "CQ00Rpzbt6IA",
        "colab_type": "code",
        "colab": {}
      },
      "source": [
        "import datetime as dt\n",
        "result_list = []\n",
        "\n",
        "for row in ask_posts:\n",
        "    temp = [row[6], int(row[4])]\n",
        "    result_list.append(temp)\n",
        "    \n",
        "counts_by_hour = {}\n",
        "comments_by_hour = {}\n",
        "for row in result_list:\n",
        "    time = dt.datetime.strptime(row[0], '%m/%d/%Y %H:%M')\n",
        "    hour = time.hour\n",
        "    if hour not in counts_by_hour:\n",
        "        counts_by_hour[hour] = 1\n",
        "        comments_by_hour[hour] = row[1]\n",
        "    else:\n",
        "        counts_by_hour[hour] += 1\n",
        "        comments_by_hour[hour] += row[1]\n",
        "    "
      ],
      "execution_count": null,
      "outputs": []
    },
    {
      "cell_type": "code",
      "metadata": {
        "id": "WKiU1gbgt6IE",
        "colab_type": "code",
        "colab": {},
        "outputId": "e20c7519-518d-4a99-f50e-83f740f7a139"
      },
      "source": [
        "avg_by_hour = []\n",
        "for hour in counts_by_hour:\n",
        "    avg_by_hour.append([hour, round(comments_by_hour[hour]/counts_by_hour[hour], 2)])\n",
        "print(avg_by_hour)"
      ],
      "execution_count": null,
      "outputs": [
        {
          "output_type": "stream",
          "text": [
            "[[2, 11.14], [1, 7.41], [22, 8.8], [21, 8.69], [19, 7.16], [17, 9.45], [15, 28.68], [14, 9.69], [13, 16.32], [11, 8.96], [10, 10.68], [9, 6.65], [7, 7.01], [3, 7.95], [23, 6.7], [20, 8.75], [16, 7.71], [8, 9.19], [0, 7.56], [18, 7.94], [12, 12.38], [4, 9.71], [6, 6.78], [5, 8.79]]\n"
          ],
          "name": "stdout"
        }
      ]
    },
    {
      "cell_type": "markdown",
      "metadata": {
        "id": "zjjV0j8wt6IM",
        "colab_type": "text"
      },
      "source": [
        "These results are a little hard to read, so next I'll do some quick sorting to achieve some more readable results."
      ]
    },
    {
      "cell_type": "code",
      "metadata": {
        "id": "KIWoUCUlt6IN",
        "colab_type": "code",
        "colab": {}
      },
      "source": [
        "swap_avg_by_hour = []\n",
        "for row in avg_by_hour:\n",
        "    swap_avg_by_hour.append([row[1], row[0]])\n",
        "sorted_swap = sorted(swap_avg_by_hour, reverse=True)"
      ],
      "execution_count": null,
      "outputs": []
    },
    {
      "cell_type": "code",
      "metadata": {
        "id": "nWEFJPUot6IR",
        "colab_type": "code",
        "colab": {},
        "outputId": "5561aead-c631-4dbb-d796-fe6987dd78ea"
      },
      "source": [
        "print('Top five hours for \"Ask HN\" posts: ')\n",
        "for row in sorted_swap[:5]:\n",
        "    template = '{0}:00 {1} average comments per post'.format(row[1], row[0])\n",
        "    print(template)"
      ],
      "execution_count": null,
      "outputs": [
        {
          "output_type": "stream",
          "text": [
            "Top five hours for \"Ask HN\" posts: \n",
            "15:00 28.68 average comments per post\n",
            "13:00 16.32 average comments per post\n",
            "12:00 12.38 average comments per post\n",
            "2:00 11.14 average comments per post\n",
            "10:00 10.68 average comments per post\n"
          ],
          "name": "stdout"
        }
      ]
    },
    {
      "cell_type": "markdown",
      "metadata": {
        "id": "evl6eYAht6IV",
        "colab_type": "text"
      },
      "source": [
        "Here we can see that the highest average comments per post occur at 3pm, 1pm, 12pm, 2am, and 10am. This means that, in order to maximize one's feedback when asking questions on Hacker News, it would be best to post the question at one of these times."
      ]
    },
    {
      "cell_type": "code",
      "metadata": {
        "id": "X-BKZ6D0t6IV",
        "colab_type": "code",
        "colab": {}
      },
      "source": [
        ""
      ],
      "execution_count": null,
      "outputs": []
    }
  ]
}